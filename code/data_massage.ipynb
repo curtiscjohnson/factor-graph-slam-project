{
 "cells": [
  {
   "cell_type": "markdown",
   "metadata": {},
   "source": [
    "This script is to convert the raw .bag file from the mobile base. The mobile base data has two topics: ar_tags and encoders. \n",
    "\n",
    "ar_tags has a message containiing xyz position and a quaternion for each visible ar tag. \n",
    "\n",
    "Encoders has castor and segway encoder counts, which should give us odometry through the kinematic model of the base. "
   ]
  },
  {
   "cell_type": "code",
   "execution_count": 2,
   "metadata": {},
   "outputs": [],
   "source": [
    "from bagpy import bagreader\n",
    "import pandas as pd\n",
    "import numpy as np\n",
    "from scipy.spatial.transform import Rotation"
   ]
  },
  {
   "cell_type": "code",
   "execution_count": 3,
   "metadata": {},
   "outputs": [
    {
     "name": "stdout",
     "output_type": "stream",
     "text": [
      "[INFO]  Data folder ./slam_data_1 already exists. Not creating.\n"
     ]
    },
    {
     "data": {
      "text/html": [
       "<div>\n",
       "<style scoped>\n",
       "    .dataframe tbody tr th:only-of-type {\n",
       "        vertical-align: middle;\n",
       "    }\n",
       "\n",
       "    .dataframe tbody tr th {\n",
       "        vertical-align: top;\n",
       "    }\n",
       "\n",
       "    .dataframe thead th {\n",
       "        text-align: right;\n",
       "    }\n",
       "</style>\n",
       "<table border=\"1\" class=\"dataframe\">\n",
       "  <thead>\n",
       "    <tr style=\"text-align: right;\">\n",
       "      <th></th>\n",
       "      <th>Topics</th>\n",
       "      <th>Types</th>\n",
       "      <th>Message Count</th>\n",
       "      <th>Frequency</th>\n",
       "    </tr>\n",
       "  </thead>\n",
       "  <tbody>\n",
       "    <tr>\n",
       "      <th>0</th>\n",
       "      <td>/mobile_base_0/ar_tags</td>\n",
       "      <td>base_msgs/arTagArray</td>\n",
       "      <td>1684</td>\n",
       "      <td>3.247758</td>\n",
       "    </tr>\n",
       "    <tr>\n",
       "      <th>1</th>\n",
       "      <td>/mobile_base_0/encoders</td>\n",
       "      <td>base_msgs/baseEncoders</td>\n",
       "      <td>64152</td>\n",
       "      <td>100.054962</td>\n",
       "    </tr>\n",
       "  </tbody>\n",
       "</table>\n",
       "</div>"
      ],
      "text/plain": [
       "                    Topics                   Types  Message Count   Frequency\n",
       "0   /mobile_base_0/ar_tags    base_msgs/arTagArray           1684    3.247758\n",
       "1  /mobile_base_0/encoders  base_msgs/baseEncoders          64152  100.054962"
      ]
     },
     "execution_count": 3,
     "metadata": {},
     "output_type": "execute_result"
    }
   ],
   "source": [
    "b = bagreader('./slam_data_1.bag')\n",
    "b.topic_table"
   ]
  },
  {
   "cell_type": "markdown",
   "metadata": {},
   "source": [
    "# Measurement Data"
   ]
  },
  {
   "cell_type": "code",
   "execution_count": 4,
   "metadata": {},
   "outputs": [
    {
     "data": {
      "text/html": [
       "<div>\n",
       "<style scoped>\n",
       "    .dataframe tbody tr th:only-of-type {\n",
       "        vertical-align: middle;\n",
       "    }\n",
       "\n",
       "    .dataframe tbody tr th {\n",
       "        vertical-align: top;\n",
       "    }\n",
       "\n",
       "    .dataframe thead th {\n",
       "        text-align: right;\n",
       "    }\n",
       "</style>\n",
       "<table border=\"1\" class=\"dataframe\">\n",
       "  <thead>\n",
       "    <tr style=\"text-align: right;\">\n",
       "      <th></th>\n",
       "      <th>Time</th>\n",
       "      <th>header.seq</th>\n",
       "      <th>header.stamp.secs</th>\n",
       "      <th>header.stamp.nsecs</th>\n",
       "      <th>header.frame_id</th>\n",
       "      <th>tags</th>\n",
       "    </tr>\n",
       "  </thead>\n",
       "  <tbody>\n",
       "    <tr>\n",
       "      <th>0</th>\n",
       "      <td>0.000000</td>\n",
       "      <td>1</td>\n",
       "      <td>1669159522</td>\n",
       "      <td>187745809</td>\n",
       "      <td>NaN</td>\n",
       "      <td>[id: 37\\npose: \\n  position: \\n    x: -10.4718...</td>\n",
       "    </tr>\n",
       "    <tr>\n",
       "      <th>1</th>\n",
       "      <td>0.297291</td>\n",
       "      <td>2</td>\n",
       "      <td>1669159522</td>\n",
       "      <td>484997987</td>\n",
       "      <td>NaN</td>\n",
       "      <td>[id: 37\\npose: \\n  position: \\n    x: -10.4718...</td>\n",
       "    </tr>\n",
       "    <tr>\n",
       "      <th>2</th>\n",
       "      <td>0.606688</td>\n",
       "      <td>3</td>\n",
       "      <td>1669159522</td>\n",
       "      <td>794341802</td>\n",
       "      <td>NaN</td>\n",
       "      <td>[id: 37\\npose: \\n  position: \\n    x: -10.4718...</td>\n",
       "    </tr>\n",
       "    <tr>\n",
       "      <th>3</th>\n",
       "      <td>0.911516</td>\n",
       "      <td>4</td>\n",
       "      <td>1669159523</td>\n",
       "      <td>99001169</td>\n",
       "      <td>NaN</td>\n",
       "      <td>[id: 37\\npose: \\n  position: \\n    x: -10.4718...</td>\n",
       "    </tr>\n",
       "    <tr>\n",
       "      <th>4</th>\n",
       "      <td>1.247960</td>\n",
       "      <td>5</td>\n",
       "      <td>1669159523</td>\n",
       "      <td>435541391</td>\n",
       "      <td>NaN</td>\n",
       "      <td>[id: 37\\npose: \\n  position: \\n    x: -10.4718...</td>\n",
       "    </tr>\n",
       "    <tr>\n",
       "      <th>...</th>\n",
       "      <td>...</td>\n",
       "      <td>...</td>\n",
       "      <td>...</td>\n",
       "      <td>...</td>\n",
       "      <td>...</td>\n",
       "      <td>...</td>\n",
       "    </tr>\n",
       "    <tr>\n",
       "      <th>1679</th>\n",
       "      <td>640.170521</td>\n",
       "      <td>1680</td>\n",
       "      <td>1669160162</td>\n",
       "      <td>358277320</td>\n",
       "      <td>NaN</td>\n",
       "      <td>[id: 17\\npose: \\n  position: \\n    x: -3.53977...</td>\n",
       "    </tr>\n",
       "    <tr>\n",
       "      <th>1680</th>\n",
       "      <td>640.473278</td>\n",
       "      <td>1681</td>\n",
       "      <td>1669160162</td>\n",
       "      <td>661100149</td>\n",
       "      <td>NaN</td>\n",
       "      <td>[id: 17\\npose: \\n  position: \\n    x: -3.53977...</td>\n",
       "    </tr>\n",
       "    <tr>\n",
       "      <th>1681</th>\n",
       "      <td>640.790020</td>\n",
       "      <td>1682</td>\n",
       "      <td>1669160162</td>\n",
       "      <td>977586507</td>\n",
       "      <td>NaN</td>\n",
       "      <td>[id: 17\\npose: \\n  position: \\n    x: -3.53977...</td>\n",
       "    </tr>\n",
       "    <tr>\n",
       "      <th>1682</th>\n",
       "      <td>641.105750</td>\n",
       "      <td>1683</td>\n",
       "      <td>1669160163</td>\n",
       "      <td>293509483</td>\n",
       "      <td>NaN</td>\n",
       "      <td>[id: 17\\npose: \\n  position: \\n    x: -3.53977...</td>\n",
       "    </tr>\n",
       "    <tr>\n",
       "      <th>1683</th>\n",
       "      <td>641.407680</td>\n",
       "      <td>1684</td>\n",
       "      <td>1669160163</td>\n",
       "      <td>595152378</td>\n",
       "      <td>NaN</td>\n",
       "      <td>[id: 17\\npose: \\n  position: \\n    x: -3.53977...</td>\n",
       "    </tr>\n",
       "  </tbody>\n",
       "</table>\n",
       "<p>1684 rows × 6 columns</p>\n",
       "</div>"
      ],
      "text/plain": [
       "            Time  header.seq  header.stamp.secs  header.stamp.nsecs  \\\n",
       "0       0.000000           1         1669159522           187745809   \n",
       "1       0.297291           2         1669159522           484997987   \n",
       "2       0.606688           3         1669159522           794341802   \n",
       "3       0.911516           4         1669159523            99001169   \n",
       "4       1.247960           5         1669159523           435541391   \n",
       "...          ...         ...                ...                 ...   \n",
       "1679  640.170521        1680         1669160162           358277320   \n",
       "1680  640.473278        1681         1669160162           661100149   \n",
       "1681  640.790020        1682         1669160162           977586507   \n",
       "1682  641.105750        1683         1669160163           293509483   \n",
       "1683  641.407680        1684         1669160163           595152378   \n",
       "\n",
       "      header.frame_id                                               tags  \n",
       "0                 NaN  [id: 37\\npose: \\n  position: \\n    x: -10.4718...  \n",
       "1                 NaN  [id: 37\\npose: \\n  position: \\n    x: -10.4718...  \n",
       "2                 NaN  [id: 37\\npose: \\n  position: \\n    x: -10.4718...  \n",
       "3                 NaN  [id: 37\\npose: \\n  position: \\n    x: -10.4718...  \n",
       "4                 NaN  [id: 37\\npose: \\n  position: \\n    x: -10.4718...  \n",
       "...               ...                                                ...  \n",
       "1679              NaN  [id: 17\\npose: \\n  position: \\n    x: -3.53977...  \n",
       "1680              NaN  [id: 17\\npose: \\n  position: \\n    x: -3.53977...  \n",
       "1681              NaN  [id: 17\\npose: \\n  position: \\n    x: -3.53977...  \n",
       "1682              NaN  [id: 17\\npose: \\n  position: \\n    x: -3.53977...  \n",
       "1683              NaN  [id: 17\\npose: \\n  position: \\n    x: -3.53977...  \n",
       "\n",
       "[1684 rows x 6 columns]"
      ]
     },
     "execution_count": 4,
     "metadata": {},
     "output_type": "execute_result"
    }
   ],
   "source": [
    "tag_csv = b.message_by_topic('/mobile_base_0/ar_tags')\n",
    "tag_data = pd.read_csv(tag_csv)\n",
    "\n",
    "tag_data['Time'] = tag_data['Time'] - tag_data['Time'][0]\n",
    "tag_data\n"
   ]
  },
  {
   "cell_type": "markdown",
   "metadata": {},
   "source": [
    "I guess tags get decoded as strings. Darn."
   ]
  },
  {
   "cell_type": "code",
   "execution_count": 5,
   "metadata": {},
   "outputs": [],
   "source": [
    "def get_tag_list(tag_string:str):\n",
    "    return tag_string.replace('\\n',' ').replace(' ', '').replace('[','').replace(']','').split(',')\n"
   ]
  },
  {
   "cell_type": "code",
   "execution_count": 6,
   "metadata": {},
   "outputs": [],
   "source": [
    "def get_xz(tag_string:str):\n",
    "    x_start = tag_string.find('x:')+2\n",
    "    y_start = tag_string.find('y:')+2\n",
    "    z_start = tag_string.find('z:')+2\n",
    "    orientation_start = tag_string.find('orientation')\n",
    "\n",
    "    x = float(tag_string[x_start:y_start-2])\n",
    "    z = float(tag_string[z_start:orientation_start])  * 20.4/100.0 #magical z scaling number with Shaden\n",
    "    return [x,z]"
   ]
  },
  {
   "cell_type": "code",
   "execution_count": 7,
   "metadata": {},
   "outputs": [],
   "source": [
    "def get_range(tag_string:str):\n",
    "    x,z = get_xz(tag_string)\n",
    "    return np.sqrt(x**2 + z**2)"
   ]
  },
  {
   "cell_type": "code",
   "execution_count": 8,
   "metadata": {},
   "outputs": [],
   "source": [
    "def get_bearing(tag_string:str):\n",
    "    x,z = get_xz(tag_string)\n",
    "    return np.arctan2(x,z)\n"
   ]
  },
  {
   "cell_type": "code",
   "execution_count": 9,
   "metadata": {},
   "outputs": [],
   "source": [
    "def extract_measurement_data(tag_list:list, degrees:bool = False):\n",
    "    data = []\n",
    "    valid_id = list(range(1,39))\n",
    "    for tag in tag_list:\n",
    "        #find id tag\n",
    "        start = 3 #after \"id:\"\n",
    "        end = tag.find('pose')\n",
    "        tag_id = int(tag[start:end])\n",
    "        # print(tag_id)\n",
    "        if tag_id in valid_id:\n",
    "            rang = get_range(tag)\n",
    "            bearing = get_bearing(tag)\n",
    "            data.append([tag_id, rang, bearing])\n",
    "\n",
    "    return data\n"
   ]
  },
  {
   "cell_type": "code",
   "execution_count": 10,
   "metadata": {},
   "outputs": [],
   "source": [
    "data = []\n",
    "for i in range(len(tag_data['tags'])):\n",
    "# for i in range(5):\n",
    "    time = float(tag_data['Time'][i])\n",
    "    tag_list = get_tag_list(tag_data['tags'][i])\n",
    "    # print(tag_list)\n",
    "    measurement = extract_measurement_data(tag_list, degrees=True)\n",
    "    # print(measurement)\n",
    "    data.append([time]+measurement)"
   ]
  },
  {
   "cell_type": "code",
   "execution_count": 11,
   "metadata": {},
   "outputs": [],
   "source": [
    "with open('measurement_data.txt', 'w') as f:\n",
    "    for data_point in data:\n",
    "        f.write(str(data_point))\n",
    "        f.write('\\n')"
   ]
  },
  {
   "cell_type": "markdown",
   "metadata": {},
   "source": [
    "# Odometry Data"
   ]
  },
  {
   "cell_type": "code",
   "execution_count": 12,
   "metadata": {},
   "outputs": [],
   "source": [
    "import sympy as sym"
   ]
  },
  {
   "cell_type": "code",
   "execution_count": 13,
   "metadata": {},
   "outputs": [],
   "source": [
    "rx,rz,w,vx,vz = sym.symbols('r_x, r_z, omega, v_x, v_y',real=True)\n",
    "vO = sym.Matrix([vx, 0, vz])\n",
    "wO = sym.Matrix([0,w,0])\n",
    "\n",
    "r0 = sym.Matrix([-rx,0,-rz])\n",
    "r1 = sym.Matrix([rx,0,-rz])\n",
    "r2 = sym.Matrix([-rx,0,rz])\n",
    "r3 = sym.Matrix([rx,0,rz])\n"
   ]
  },
  {
   "cell_type": "code",
   "execution_count": 14,
   "metadata": {},
   "outputs": [
    {
     "data": {
      "text/latex": [
       "$\\displaystyle \\left[\\begin{matrix}- r_{x}\\\\0\\\\- r_{z}\\end{matrix}\\right]$"
      ],
      "text/plain": [
       "Matrix([\n",
       "[-r_x],\n",
       "[   0],\n",
       "[-r_z]])"
      ]
     },
     "execution_count": 14,
     "metadata": {},
     "output_type": "execute_result"
    }
   ],
   "source": [
    "r0"
   ]
  },
  {
   "cell_type": "code",
   "execution_count": 15,
   "metadata": {},
   "outputs": [],
   "source": [
    "v_wheel0 = vO + wO.cross(r0)\n",
    "v_wheel1 = vO + wO.cross(r1)\n",
    "v_wheel2 = vO + wO.cross(r2)\n",
    "v_wheel3 = vO + wO.cross(r3)"
   ]
  },
  {
   "cell_type": "code",
   "execution_count": 16,
   "metadata": {},
   "outputs": [
    {
     "data": {
      "text/latex": [
       "$\\displaystyle \\left[\\begin{matrix}- \\omega r_{z} + v_{x}\\\\0\\\\\\omega r_{x} + v_{y}\\end{matrix}\\right]$"
      ],
      "text/plain": [
       "Matrix([\n",
       "[-omega*r_z + v_x],\n",
       "[               0],\n",
       "[ omega*r_x + v_y]])"
      ]
     },
     "execution_count": 16,
     "metadata": {},
     "output_type": "execute_result"
    }
   ],
   "source": [
    "v_wheel0"
   ]
  },
  {
   "cell_type": "code",
   "execution_count": 17,
   "metadata": {},
   "outputs": [
    {
     "data": {
      "text/latex": [
       "$\\displaystyle \\left[\\begin{matrix}- \\omega r_{z} + v_{x}\\\\0\\\\- \\omega r_{x} + v_{y}\\end{matrix}\\right]$"
      ],
      "text/plain": [
       "Matrix([\n",
       "[-omega*r_z + v_x],\n",
       "[               0],\n",
       "[-omega*r_x + v_y]])"
      ]
     },
     "execution_count": 17,
     "metadata": {},
     "output_type": "execute_result"
    }
   ],
   "source": [
    "v_wheel1"
   ]
  },
  {
   "cell_type": "code",
   "execution_count": 18,
   "metadata": {},
   "outputs": [
    {
     "data": {
      "text/latex": [
       "$\\displaystyle \\left[\\begin{matrix}\\omega r_{z} + v_{x}\\\\0\\\\\\omega r_{x} + v_{y}\\end{matrix}\\right]$"
      ],
      "text/plain": [
       "Matrix([\n",
       "[omega*r_z + v_x],\n",
       "[              0],\n",
       "[omega*r_x + v_y]])"
      ]
     },
     "execution_count": 18,
     "metadata": {},
     "output_type": "execute_result"
    }
   ],
   "source": [
    "v_wheel2"
   ]
  },
  {
   "cell_type": "code",
   "execution_count": 19,
   "metadata": {},
   "outputs": [
    {
     "data": {
      "text/latex": [
       "$\\displaystyle \\left[\\begin{matrix}\\omega r_{z} + v_{x}\\\\0\\\\- \\omega r_{x} + v_{y}\\end{matrix}\\right]$"
      ],
      "text/plain": [
       "Matrix([\n",
       "[ omega*r_z + v_x],\n",
       "[               0],\n",
       "[-omega*r_x + v_y]])"
      ]
     },
     "execution_count": 19,
     "metadata": {},
     "output_type": "execute_result"
    }
   ],
   "source": [
    "v_wheel3"
   ]
  },
  {
   "cell_type": "markdown",
   "metadata": {},
   "source": [
    "Putting this into matrix form"
   ]
  },
  {
   "cell_type": "code",
   "execution_count": 20,
   "metadata": {},
   "outputs": [
    {
     "data": {
      "text/latex": [
       "$\\displaystyle \\left[\\begin{matrix}\\frac{1}{4} & 0 & \\frac{1}{4} & 0 & \\frac{1}{4} & 0 & \\frac{1}{4} & 0\\\\0 & \\frac{1}{4} & 0 & \\frac{1}{4} & 0 & \\frac{1}{4} & 0 & \\frac{1}{4}\\\\- \\frac{r_{z}}{4 r_{x}^{2} + 4 r_{z}^{2}} & \\frac{r_{x}}{4 r_{x}^{2} + 4 r_{z}^{2}} & - \\frac{r_{z}}{4 r_{x}^{2} + 4 r_{z}^{2}} & - \\frac{r_{x}}{4 r_{x}^{2} + 4 r_{z}^{2}} & \\frac{r_{z}}{4 r_{x}^{2} + 4 r_{z}^{2}} & \\frac{r_{x}}{4 r_{x}^{2} + 4 r_{z}^{2}} & \\frac{r_{z}}{4 r_{x}^{2} + 4 r_{z}^{2}} & - \\frac{r_{x}}{4 r_{x}^{2} + 4 r_{z}^{2}}\\end{matrix}\\right]$"
      ],
      "text/plain": [
       "Matrix([\n",
       "[                       1/4,                         0,                        1/4,                          0,                       1/4,                         0,                       1/4,                          0],\n",
       "[                         0,                       1/4,                          0,                        1/4,                         0,                       1/4,                         0,                        1/4],\n",
       "[-r_z/(4*r_x**2 + 4*r_z**2), r_x/(4*r_x**2 + 4*r_z**2), -r_z/(4*r_x**2 + 4*r_z**2), -r_x/(4*r_x**2 + 4*r_z**2), r_z/(4*r_x**2 + 4*r_z**2), r_x/(4*r_x**2 + 4*r_z**2), r_z/(4*r_x**2 + 4*r_z**2), -r_x/(4*r_x**2 + 4*r_z**2)]])"
      ]
     },
     "execution_count": 20,
     "metadata": {},
     "output_type": "execute_result"
    }
   ],
   "source": [
    "M = sym.Matrix(\n",
    "    [\n",
    "        [1,0,-rz],\n",
    "        [0,1,rx],\n",
    "        [1,0,-rz],\n",
    "        [0,1,-rx],\n",
    "        [1,0,rz],\n",
    "        [0,1,rx],\n",
    "        [1,0,rz],\n",
    "        [0,1,-rx]\n",
    "    ]\n",
    ")\n",
    "Minv = M.pinv()\n",
    "Minv"
   ]
  },
  {
   "cell_type": "code",
   "execution_count": 21,
   "metadata": {},
   "outputs": [],
   "source": [
    "calc_Minv = sym.utilities.lambdify([rx, rz], Minv)"
   ]
  },
  {
   "cell_type": "markdown",
   "metadata": {},
   "source": [
    "To get robot velocities vx,vy,and omega:\n",
    "\n",
    "$$\n",
    "\\begin{equation}\n",
    "\\left[\\begin{array}{l}\n",
    "v_x \\\\\n",
    "v_y \\\\\n",
    "\\omega\n",
    "\\end{array}\\right]=\\mathbf{M}^{\\dagger}\\left[\\begin{array}{l}\n",
    "v_{0 x} \\\\\n",
    "v_{0 y} \\\\\n",
    "v_{1 x} \\\\\n",
    "v_{1 y} \\\\\n",
    "v_{2 x} \\\\\n",
    "v_{2 y} \\\\\n",
    "v_{3 x} \\\\\n",
    "v_{3 y}\n",
    "\\end{array}\\right]\n",
    "\\end{equation}\n",
    "$$"
   ]
  },
  {
   "cell_type": "markdown",
   "metadata": {},
   "source": [
    "Now I need to convert encoder ticks to wheel velocities. Equation to get the ith wheel velocity is \n",
    "\n",
    "$$ v_i = \\frac{D}{2} \\omega_i \\left[\\begin{array}{l}\n",
    "sin(\\theta) \\\\\n",
    "0 \\\\\n",
    "cos(\\theta)\n",
    "\\end{array}\\right]$$\n",
    "\n",
    "$\\omega_i$ comes from the segway encoders. $D$ is the diameter of the wheels. $\\theta$ comes from the caster encoder data (which is recorded already as angles).\n"
   ]
  },
  {
   "cell_type": "code",
   "execution_count": 22,
   "metadata": {},
   "outputs": [
    {
     "data": {
      "text/html": [
       "<div>\n",
       "<style scoped>\n",
       "    .dataframe tbody tr th:only-of-type {\n",
       "        vertical-align: middle;\n",
       "    }\n",
       "\n",
       "    .dataframe tbody tr th {\n",
       "        vertical-align: top;\n",
       "    }\n",
       "\n",
       "    .dataframe thead th {\n",
       "        text-align: right;\n",
       "    }\n",
       "</style>\n",
       "<table border=\"1\" class=\"dataframe\">\n",
       "  <thead>\n",
       "    <tr style=\"text-align: right;\">\n",
       "      <th></th>\n",
       "      <th>Time</th>\n",
       "      <th>header.seq</th>\n",
       "      <th>header.stamp.secs</th>\n",
       "      <th>header.stamp.nsecs</th>\n",
       "      <th>header.frame_id</th>\n",
       "      <th>castor.castor_0</th>\n",
       "      <th>castor.castor_1</th>\n",
       "      <th>castor.castor_2</th>\n",
       "      <th>castor.castor_3</th>\n",
       "      <th>segway.segway_0</th>\n",
       "      <th>segway.segway_1</th>\n",
       "      <th>segway.segway_2</th>\n",
       "      <th>segway.segway_3</th>\n",
       "    </tr>\n",
       "  </thead>\n",
       "  <tbody>\n",
       "    <tr>\n",
       "      <th>0</th>\n",
       "      <td>0.000000</td>\n",
       "      <td>1</td>\n",
       "      <td>1669159522</td>\n",
       "      <td>133120059</td>\n",
       "      <td>NaN</td>\n",
       "      <td>-0.000026</td>\n",
       "      <td>0.000026</td>\n",
       "      <td>0.0</td>\n",
       "      <td>0.0</td>\n",
       "      <td>0</td>\n",
       "      <td>0</td>\n",
       "      <td>0</td>\n",
       "      <td>0</td>\n",
       "    </tr>\n",
       "    <tr>\n",
       "      <th>1</th>\n",
       "      <td>0.010591</td>\n",
       "      <td>2</td>\n",
       "      <td>1669159522</td>\n",
       "      <td>143382787</td>\n",
       "      <td>NaN</td>\n",
       "      <td>-0.000026</td>\n",
       "      <td>0.000026</td>\n",
       "      <td>0.0</td>\n",
       "      <td>0.0</td>\n",
       "      <td>0</td>\n",
       "      <td>0</td>\n",
       "      <td>0</td>\n",
       "      <td>1</td>\n",
       "    </tr>\n",
       "    <tr>\n",
       "      <th>2</th>\n",
       "      <td>0.020314</td>\n",
       "      <td>3</td>\n",
       "      <td>1669159522</td>\n",
       "      <td>153208971</td>\n",
       "      <td>NaN</td>\n",
       "      <td>-0.000026</td>\n",
       "      <td>0.000026</td>\n",
       "      <td>0.0</td>\n",
       "      <td>0.0</td>\n",
       "      <td>0</td>\n",
       "      <td>0</td>\n",
       "      <td>0</td>\n",
       "      <td>1</td>\n",
       "    </tr>\n",
       "    <tr>\n",
       "      <th>3</th>\n",
       "      <td>0.030217</td>\n",
       "      <td>4</td>\n",
       "      <td>1669159522</td>\n",
       "      <td>163164377</td>\n",
       "      <td>NaN</td>\n",
       "      <td>-0.000026</td>\n",
       "      <td>0.000026</td>\n",
       "      <td>0.0</td>\n",
       "      <td>0.0</td>\n",
       "      <td>0</td>\n",
       "      <td>0</td>\n",
       "      <td>0</td>\n",
       "      <td>1</td>\n",
       "    </tr>\n",
       "    <tr>\n",
       "      <th>4</th>\n",
       "      <td>0.040277</td>\n",
       "      <td>5</td>\n",
       "      <td>1669159522</td>\n",
       "      <td>173169136</td>\n",
       "      <td>NaN</td>\n",
       "      <td>-0.000026</td>\n",
       "      <td>0.000026</td>\n",
       "      <td>0.0</td>\n",
       "      <td>0.0</td>\n",
       "      <td>0</td>\n",
       "      <td>0</td>\n",
       "      <td>0</td>\n",
       "      <td>1</td>\n",
       "    </tr>\n",
       "  </tbody>\n",
       "</table>\n",
       "</div>"
      ],
      "text/plain": [
       "       Time  header.seq  header.stamp.secs  header.stamp.nsecs  \\\n",
       "0  0.000000           1         1669159522           133120059   \n",
       "1  0.010591           2         1669159522           143382787   \n",
       "2  0.020314           3         1669159522           153208971   \n",
       "3  0.030217           4         1669159522           163164377   \n",
       "4  0.040277           5         1669159522           173169136   \n",
       "\n",
       "   header.frame_id  castor.castor_0  castor.castor_1  castor.castor_2  \\\n",
       "0              NaN        -0.000026         0.000026              0.0   \n",
       "1              NaN        -0.000026         0.000026              0.0   \n",
       "2              NaN        -0.000026         0.000026              0.0   \n",
       "3              NaN        -0.000026         0.000026              0.0   \n",
       "4              NaN        -0.000026         0.000026              0.0   \n",
       "\n",
       "   castor.castor_3  segway.segway_0  segway.segway_1  segway.segway_2  \\\n",
       "0              0.0                0                0                0   \n",
       "1              0.0                0                0                0   \n",
       "2              0.0                0                0                0   \n",
       "3              0.0                0                0                0   \n",
       "4              0.0                0                0                0   \n",
       "\n",
       "   segway.segway_3  \n",
       "0                0  \n",
       "1                1  \n",
       "2                1  \n",
       "3                1  \n",
       "4                1  "
      ]
     },
     "execution_count": 22,
     "metadata": {},
     "output_type": "execute_result"
    }
   ],
   "source": [
    "encoder_csv = b.message_by_topic('/mobile_base_0/encoders')\n",
    "encoder_data = pd.read_csv(encoder_csv)\n",
    "encoder_data['Time'] = encoder_data['Time'] - encoder_data['Time'][0]\n",
    "encoder_data['segway.segway_0'] = encoder_data['segway.segway_0'] - encoder_data['segway.segway_0'][0]\n",
    "encoder_data['segway.segway_1'] = encoder_data['segway.segway_1'] - encoder_data['segway.segway_1'][0]\n",
    "encoder_data['segway.segway_2'] = encoder_data['segway.segway_2'] - encoder_data['segway.segway_2'][0]\n",
    "encoder_data['segway.segway_3'] = encoder_data['segway.segway_3'] - encoder_data['segway.segway_3'][0]\n",
    "\n",
    "encoder_data.head()"
   ]
  },
  {
   "cell_type": "code",
   "execution_count": 31,
   "metadata": {},
   "outputs": [],
   "source": [
    "segway_radPerTick = 4 * np.pi/180.\n",
    "D = .255\n",
    "M_inv = calc_Minv(.4, .56)\n",
    "\n",
    "base_velocity_data = []\n",
    "for i in range(len(encoder_data['Time']) - 1):\n",
    "# for i in range(2):\n",
    "    theta0 = encoder_data['castor.castor_0'][i]\n",
    "    theta1 = encoder_data['castor.castor_1'][i]\n",
    "    theta2 = encoder_data['castor.castor_2'][i]\n",
    "    theta3 = encoder_data['castor.castor_3'][i]\n",
    "\n",
    "    dt = encoder_data['Time'][i+1] - encoder_data['Time'][i]\n",
    "    omega0 = segway_radPerTick * (encoder_data['segway.segway_0'][i+1] - encoder_data['segway.segway_0'][i])/dt \n",
    "    omega1 = segway_radPerTick * (encoder_data['segway.segway_1'][i+1] - encoder_data['segway.segway_1'][i])/dt \n",
    "    omega2 = segway_radPerTick * (encoder_data['segway.segway_2'][i+1] - encoder_data['segway.segway_2'][i])/dt \n",
    "    omega3 = segway_radPerTick * (encoder_data['segway.segway_3'][i+1] - encoder_data['segway.segway_3'][i])/dt \n",
    "\n",
    "    v0x = D*omega0*np.sin(theta0)/2\n",
    "    v0z = D*omega0*np.cos(theta0)/2\n",
    "\n",
    "    v1x = D*omega1*np.sin(theta1)/2\n",
    "    v1z = D*omega1*np.cos(theta1)/2\n",
    "\n",
    "    v2x = D*omega2*np.sin(theta2)/2\n",
    "    v2z = D*omega2*np.cos(theta2)/2\n",
    "\n",
    "    v3x = D*omega3*np.sin(theta3)/2\n",
    "    v3z = D*omega3*np.cos(theta3)/2\n",
    "\n",
    "    v_wheels = np.array([v0x,v0z,v1x,v1z,v2x,v2z,v3x,v3z])\n",
    "\n",
    "    base_velocity = M_inv @ v_wheels\n",
    "    v_base = np.sqrt(base_velocity[0]**2 + base_velocity[1]**2)\n",
    "\n",
    "    #ignore lots of encoder ticks that don't change\n",
    "    if v_base != 0 and base_velocity[-1] != 0:\n",
    "        base_velocity_data.append([encoder_data['Time'][i]] + [v_base, base_velocity[-1]])\n"
   ]
  },
  {
   "cell_type": "code",
   "execution_count": 35,
   "metadata": {},
   "outputs": [],
   "source": [
    "with open('odometry_data.txt', 'w') as f:\n",
    "    for data_point in base_velocity_data:\n",
    "        f.write(str(data_point))\n",
    "        f.write('\\n')"
   ]
  },
  {
   "cell_type": "code",
   "execution_count": 32,
   "metadata": {},
   "outputs": [
    {
     "data": {
      "text/plain": [
       "[<matplotlib.lines.Line2D at 0x7f21a4599910>]"
      ]
     },
     "execution_count": 32,
     "metadata": {},
     "output_type": "execute_result"
    },
    {
     "data": {
      "image/png": "[encoded data removed]",
      "text/plain": [
       "<Figure size 432x288 with 1 Axes>"
      ]
     },
     "metadata": {
      "needs_background": "light"
     },
     "output_type": "display_data"
    }
   ],
   "source": [
    "velocity = [base_velocity_data[i][1] for i in range(len(base_velocity_data))]\n",
    "ang_velocity = [base_velocity_data[i][-1] for i in range(len(base_velocity_data))]\n",
    "time = [base_velocity_data[i][0] for i in range(len(base_velocity_data))]\n",
    "import matplotlib.pyplot as plt\n",
    "plt.plot(time, velocity)\n",
    "plt.plot(time, ang_velocity)"
   ]
  },
  {
   "cell_type": "code",
   "execution_count": 46,
   "metadata": {},
   "outputs": [],
   "source": [
    "position_data = []\n",
    "\n",
    "t0 = 0\n",
    "x = 0\n",
    "y = 0\n",
    "theta = 0\n",
    "position_data.append([t0,x,y,theta])\n",
    "for i in range(len(base_velocity_data)-1):\n",
    "    v = base_velocity_data[i][1]\n",
    "    w = base_velocity_data[i][2]\n",
    "    ratio = v/w\n",
    "    dt = base_velocity_data[i+1][0]-base_velocity_data[i][0]\n",
    "    x = x + -ratio*np.sin(theta) + ratio*np.sin(theta + w*dt)\n",
    "    y = y + ratio*np.cos(theta) - ratio*np.cos(theta + w*dt)\n",
    "    theta = theta+w*dt\n",
    "    position_data.append([encoder_data['Time'][i]]+[x,y,theta])"
   ]
  },
  {
   "cell_type": "code",
   "execution_count": 47,
   "metadata": {},
   "outputs": [
    {
     "data": {
      "text/plain": [
       "array([[ 0.00000000e+00,  0.00000000e+00,  0.00000000e+00,\n",
       "         0.00000000e+00],\n",
       "       [ 0.00000000e+00,  1.05494469e-02, -4.69987498e-05,\n",
       "        -8.91012375e-03],\n",
       "       [ 1.05910301e-02,  6.58357512e-02,  7.51484445e-04,\n",
       "         3.77935043e-02],\n",
       "       ...,\n",
       "       [ 1.66700312e+02,  9.41213365e+01,  1.36620150e+02,\n",
       "        -1.09215380e-01],\n",
       "       [ 1.66710005e+02,  9.41663023e+01,  1.36614346e+02,\n",
       "        -1.47510610e-01],\n",
       "       [ 1.66719977e+02,  9.41770070e+01,  1.36612806e+02,\n",
       "        -1.38376261e-01]])"
      ]
     },
     "execution_count": 47,
     "metadata": {},
     "output_type": "execute_result"
    }
   ],
   "source": [
    "np.vstack(position_data)"
   ]
  },
  {
   "cell_type": "code",
   "execution_count": 38,
   "metadata": {},
   "outputs": [],
   "source": [
    "np.save('velocity_odometry_data', np.vstack(position_data))\n",
    "\n",
    "with open('velocity_odometry_data.txt', 'w') as f:\n",
    "    for data_point in position_data:\n",
    "        f.write(str(data_point))\n",
    "        f.write('\\n')"
   ]
  },
  {
   "cell_type": "code",
   "execution_count": 39,
   "metadata": {},
   "outputs": [
    {
     "data": {
      "text/plain": [
       "[<matplotlib.lines.Line2D at 0x7f21a7ad66a0>]"
      ]
     },
     "execution_count": 39,
     "metadata": {},
     "output_type": "execute_result"
    },
    {
     "data": {
      "image/png": "[encoded data removed]",
      "text/plain": [
       "<Figure size 432x288 with 1 Axes>"
      ]
     },
     "metadata": {
      "needs_background": "light"
     },
     "output_type": "display_data"
    }
   ],
   "source": [
    "x = [position_data[i][1] for i in range(len(position_data))]\n",
    "y = [position_data[i][2] for i in range(len(position_data))]\n",
    "\n",
    "plt.plot(x,y)\n"
   ]
  },
  {
   "cell_type": "code",
   "execution_count": null,
   "metadata": {},
   "outputs": [],
   "source": []
  }
 ],
 "metadata": {
  "kernelspec": {
   "display_name": "Python 3.8.10 64-bit",
   "language": "python",
   "name": "python3"
  },
  "language_info": {
   "codemirror_mode": {
    "name": "ipython",
    "version": 3
   },
   "file_extension": ".py",
   "mimetype": "text/x-python",
   "name": "python",
   "nbconvert_exporter": "python",
   "pygments_lexer": "ipython3",
   "version": "3.8.10"
  },
  "orig_nbformat": 4,
  "vscode": {
   "interpreter": {
    "hash": "e7370f93d1d0cde622a1f8e1c04877d8463912d04d973331ad4851f04de6915a"
   }
  }
 },
 "nbformat": 4,
 "nbformat_minor": 2
}
