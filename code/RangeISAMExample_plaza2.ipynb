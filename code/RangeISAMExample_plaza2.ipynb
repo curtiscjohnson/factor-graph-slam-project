{
 "cells": [
  {
   "cell_type": "code",
   "execution_count": 8,
   "metadata": {},
   "outputs": [
    {
     "ename": "ImportError",
     "evalue": "Plotly express requires pandas to be installed.",
     "output_type": "error",
     "traceback": [
      "\u001b[0;31m---------------------------------------------------------------------------\u001b[0m",
      "\u001b[0;31mImportError\u001b[0m                               Traceback (most recent call last)",
      "\u001b[0;32m<ipython-input-8-91862fe913ba>\u001b[0m in \u001b[0;36m<module>\u001b[0;34m\u001b[0m\n\u001b[1;32m      2\u001b[0m \u001b[0;34m\u001b[0m\u001b[0m\n\u001b[1;32m      3\u001b[0m \u001b[0;32mfrom\u001b[0m \u001b[0mgtsam\u001b[0m \u001b[0;32mimport\u001b[0m \u001b[0mPoint2\u001b[0m\u001b[0;34m,\u001b[0m \u001b[0mPose2\u001b[0m\u001b[0;34m\u001b[0m\u001b[0;34m\u001b[0m\u001b[0m\n\u001b[0;32m----> 4\u001b[0;31m \u001b[0;32mimport\u001b[0m \u001b[0mplotly\u001b[0m\u001b[0;34m.\u001b[0m\u001b[0mexpress\u001b[0m \u001b[0;32mas\u001b[0m \u001b[0mpx\u001b[0m\u001b[0;34m\u001b[0m\u001b[0;34m\u001b[0m\u001b[0m\n\u001b[0m\u001b[1;32m      5\u001b[0m \u001b[0;32mimport\u001b[0m \u001b[0mnumpy\u001b[0m \u001b[0;32mas\u001b[0m \u001b[0mnp\u001b[0m\u001b[0;34m\u001b[0m\u001b[0;34m\u001b[0m\u001b[0m\n\u001b[1;32m      6\u001b[0m \u001b[0;32mimport\u001b[0m \u001b[0mgtsam\u001b[0m\u001b[0;34m\u001b[0m\u001b[0;34m\u001b[0m\u001b[0m\n",
      "\u001b[0;32m~/.local/lib/python3.8/site-packages/plotly/express/__init__.py\u001b[0m in \u001b[0;36m<module>\u001b[0;34m\u001b[0m\n\u001b[1;32m      8\u001b[0m \u001b[0mpd\u001b[0m \u001b[0;34m=\u001b[0m \u001b[0moptional_imports\u001b[0m\u001b[0;34m.\u001b[0m\u001b[0mget_module\u001b[0m\u001b[0;34m(\u001b[0m\u001b[0;34m\"pandas\"\u001b[0m\u001b[0;34m)\u001b[0m\u001b[0;34m\u001b[0m\u001b[0;34m\u001b[0m\u001b[0m\n\u001b[1;32m      9\u001b[0m \u001b[0;32mif\u001b[0m \u001b[0mpd\u001b[0m \u001b[0;32mis\u001b[0m \u001b[0;32mNone\u001b[0m\u001b[0;34m:\u001b[0m\u001b[0;34m\u001b[0m\u001b[0;34m\u001b[0m\u001b[0m\n\u001b[0;32m---> 10\u001b[0;31m     raise ImportError(\n\u001b[0m\u001b[1;32m     11\u001b[0m         \"\"\"\\\n\u001b[1;32m     12\u001b[0m Plotly express requires pandas to be installed.\"\"\"\n",
      "\u001b[0;31mImportError\u001b[0m: Plotly express requires pandas to be installed."
     ]
    }
   ],
   "source": [
    "# pylint: disable=invalid-name, E1101\n",
    "\n",
    "from gtsam import Point2, Pose2\n",
    "import plotly.express as px\n",
    "import numpy as np\n",
    "import gtsam\n",
    "import math\n",
    "\n",
    "import matplotlib.pyplot as plt\n",
    "from gtsam.utils import plot\n",
    "from numpy.random import default_rng\n",
    "\n",
    "rng = default_rng()\n",
    "\n",
    "NM = gtsam.noiseModel"
   ]
  },
  {
   "cell_type": "code",
   "execution_count": 2,
   "metadata": {},
   "outputs": [
    {
     "ename": "NameError",
     "evalue": "name 'gtsam' is not defined",
     "output_type": "error",
     "traceback": [
      "\u001b[0;31m---------------------------------------------------------------------------\u001b[0m",
      "\u001b[0;31mNameError\u001b[0m                                 Traceback (most recent call last)",
      "\u001b[0;32m<ipython-input-2-e8b24bf0cf9a>\u001b[0m in \u001b[0;36m<module>\u001b[0;34m\u001b[0m\n\u001b[1;32m      3\u001b[0m \u001b[0;31m#    Time (sec)  Delta Distance Traveled (m) Delta Heading (rad)\u001b[0m\u001b[0;34m\u001b[0m\u001b[0;34m\u001b[0m\u001b[0;34m\u001b[0m\u001b[0m\n\u001b[1;32m      4\u001b[0m \u001b[0modometry\u001b[0m \u001b[0;34m=\u001b[0m \u001b[0;34m{\u001b[0m\u001b[0;34m}\u001b[0m\u001b[0;34m\u001b[0m\u001b[0;34m\u001b[0m\u001b[0m\n\u001b[0;32m----> 5\u001b[0;31m \u001b[0mdata_file\u001b[0m \u001b[0;34m=\u001b[0m \u001b[0mgtsam\u001b[0m\u001b[0;34m.\u001b[0m\u001b[0mfindExampleDataFile\u001b[0m\u001b[0;34m(\u001b[0m\u001b[0;34m\"Plaza2_DR.txt\"\u001b[0m\u001b[0;34m)\u001b[0m\u001b[0;34m\u001b[0m\u001b[0;34m\u001b[0m\u001b[0m\n\u001b[0m\u001b[1;32m      6\u001b[0m \u001b[0;32mfor\u001b[0m \u001b[0mrow\u001b[0m \u001b[0;32min\u001b[0m \u001b[0mnp\u001b[0m\u001b[0;34m.\u001b[0m\u001b[0mloadtxt\u001b[0m\u001b[0;34m(\u001b[0m\u001b[0mdata_file\u001b[0m\u001b[0;34m)\u001b[0m\u001b[0;34m:\u001b[0m\u001b[0;34m\u001b[0m\u001b[0;34m\u001b[0m\u001b[0m\n\u001b[1;32m      7\u001b[0m     \u001b[0mt\u001b[0m\u001b[0;34m,\u001b[0m \u001b[0mdistance_traveled\u001b[0m\u001b[0;34m,\u001b[0m \u001b[0mdelta_heading\u001b[0m \u001b[0;34m=\u001b[0m \u001b[0mrow\u001b[0m\u001b[0;34m\u001b[0m\u001b[0;34m\u001b[0m\u001b[0m\n",
      "\u001b[0;31mNameError\u001b[0m: name 'gtsam' is not defined"
     ]
    }
   ],
   "source": [
    "# load the odometry\n",
    "# DR: Odometry Input (delta distance traveled and delta heading change)\n",
    "#    Time (sec)  Delta Distance Traveled (m) Delta Heading (rad)\n",
    "odometry = {}\n",
    "data_file = gtsam.findExampleDataFile(\"Plaza2_DR.txt\")\n",
    "for row in np.loadtxt(data_file):\n",
    "    t, distance_traveled, delta_heading = row\n",
    "    odometry[t] = Pose2(distance_traveled, 0, delta_heading)\n",
    "M = len(odometry)\n",
    "print(f\"Read {M} odometry entries.\")"
   ]
  },
  {
   "cell_type": "code",
   "execution_count": null,
   "metadata": {},
   "outputs": [],
   "source": [
    "# load the ranges from TD\n",
    "#    Time (sec)  Sender / Antenna ID Receiver Node ID  Range (m)\n",
    "triples = []\n",
    "data_file = gtsam.findExampleDataFile(\"Plaza2_TD.txt\")\n",
    "for row in np.loadtxt(data_file):\n",
    "    t, sender, receiver, _range = row\n",
    "    triples.append((t, int(receiver), _range))\n",
    "K = len(triples)\n",
    "print(f\"Read {K} range triples.\")"
   ]
  },
  {
   "cell_type": "code",
   "execution_count": null,
   "metadata": {},
   "outputs": [],
   "source": [
    "# parameters\n",
    "minK = 150  # minimum number of range measurements to process initially\n",
    "incK = 25  # minimum number of range measurements to process after\n",
    "robust = True"
   ]
  },
  {
   "cell_type": "code",
   "execution_count": null,
   "metadata": {},
   "outputs": [],
   "source": [
    "# Set Noise parameters\n",
    "priorSigmas = gtsam.Point3(1, 1, math.pi)\n",
    "odoSigmas = gtsam.Point3(0.05, 0.01, 0.1)\n",
    "sigmaR = 100        # range standard deviation\n",
    "\n",
    "priorNoise = NM.Diagonal.Sigmas(priorSigmas)  # prior\n",
    "looseNoise = NM.Isotropic.Sigma(2, 1000)     # loose LM prior\n",
    "odoNoise = NM.Diagonal.Sigmas(odoSigmas)     # odometry\n",
    "gaussian = NM.Isotropic.Sigma(1, sigmaR)     # non-robust\n",
    "tukey = NM.Robust.Create(NM.mEstimator.Tukey.Create(15), gaussian)  # robust\n",
    "rangeNoise = tukey if robust else gaussian"
   ]
  },
  {
   "cell_type": "code",
   "execution_count": null,
   "metadata": {},
   "outputs": [],
   "source": [
    "# Initialize iSAM\n",
    "isam = gtsam.ISAM2()\n",
    "print(isam)"
   ]
  },
  {
   "cell_type": "code",
   "execution_count": null,
   "metadata": {},
   "outputs": [],
   "source": [
    "# Add prior on first pose\n",
    "pose0 = Pose2(-34.2086489999201, 45.3007639991120, math.pi - 2.021089)\n",
    "newFactors = gtsam.NonlinearFactorGraph()\n",
    "newFactors.addPriorPose2(0, pose0, priorNoise)\n",
    "initial = gtsam.Values()\n",
    "initial.insert(0, pose0)\n",
    "print(newFactors, initial)"
   ]
  },
  {
   "cell_type": "code",
   "execution_count": null,
   "metadata": {},
   "outputs": [],
   "source": [
    "# set some loop variables\n",
    "i = 1  # step counter\n",
    "k = 0  # range measurement counter\n",
    "initialized = False\n",
    "lastPose = pose0\n",
    "countK = 0\n",
    "\n",
    "initializedLandmarks = set()\n",
    "\n",
    "# Loop over odometry\n",
    "for t, relative_pose in odometry.items():\n",
    "    # add odometry factor\n",
    "    newFactors.add(gtsam.BetweenFactorPose2(i - 1, i, relative_pose, odoNoise))\n",
    "\n",
    "    # predict pose and add as initial estimate\n",
    "    predictedPose = lastPose.compose(relative_pose)\n",
    "    lastPose = predictedPose\n",
    "    initial.insert(i, predictedPose)\n",
    "\n",
    "    # Check if there are range factors to be added\n",
    "    while (k < K) and (triples[k][0] <= t):\n",
    "        j = triples[k][1]\n",
    "        landmark_key = gtsam.symbol('L', j)\n",
    "        _range = triples[k][2]\n",
    "        newFactors.add(gtsam.RangeFactor2D(\n",
    "            i, landmark_key, _range, rangeNoise))\n",
    "        if landmark_key not in initializedLandmarks:\n",
    "            p = rng.normal(loc=0, scale=100, size=(2,))\n",
    "            initial.insert(landmark_key, p)\n",
    "            print(f\"Adding landmark L{j}\")\n",
    "            initializedLandmarks.add(landmark_key)\n",
    "            # We also add a very loose prior on the landmark in case there is only\n",
    "            # one sighting, which cannot fully determine the landmark.\n",
    "            newFactors.add(gtsam.PriorFactorPoint2(\n",
    "                landmark_key, Point2(0, 0), looseNoise))\n",
    "        k = k + 1\n",
    "        countK = countK + 1\n",
    "\n",
    "    # Check whether to update iSAM 2\n",
    "    if (k > minK) and (countK > incK):\n",
    "        if not initialized:  # Do a full optimize for first minK ranges\n",
    "            print(f\"Initializing at time {k}\")\n",
    "            batchOptimizer = gtsam.LevenbergMarquardtOptimizer(\n",
    "                newFactors, initial)\n",
    "            initial = batchOptimizer.optimize()\n",
    "            initialized = True\n",
    "\n",
    "        isam.update(newFactors, initial)\n",
    "        result = isam.calculateEstimate()\n",
    "        lastPose = result.atPose2(i)\n",
    "        newFactors = gtsam.NonlinearFactorGraph()\n",
    "        initial = gtsam.Values()\n",
    "        countK = 0\n",
    "\n",
    "    i += 1\n",
    "\n",
    "finalResult = isam.calculateEstimate()"
   ]
  },
  {
   "cell_type": "code",
   "execution_count": null,
   "metadata": {},
   "outputs": [],
   "source": [
    "# Print optimized landmarks:\n",
    "for j in [0,1,5,6]:\n",
    "    landmark_key = gtsam.symbol('L', j)\n",
    "    p = finalResult.atPoint2(landmark_key)\n",
    "    print(f\"{landmark_key}: {p}\")"
   ]
  },
  {
   "cell_type": "code",
   "execution_count": null,
   "metadata": {},
   "outputs": [],
   "source": [
    "# plot positions\n",
    "poses = gtsam.utilities.allPose2s(finalResult)\n",
    "landmarks = gtsam.utilities.extractPoint2(finalResult)\n",
    "positions = np.array([poses.atPose2(key).translation()\n",
    "                     for key in poses.keys()])\n",
    "print(positions.shape)"
   ]
  },
  {
   "cell_type": "code",
   "execution_count": null,
   "metadata": {},
   "outputs": [],
   "source": [
    "fig = px.scatter(x=positions[:,0],y=positions[:,1])\n",
    "fig.add_scatter(x=landmarks[:,0], y=landmarks[:,1], mode=\"markers\", showlegend= False)\n",
    "fig.update_layout(margin=dict(l=0, r=0, t=0, b=0))\n",
    "fig.update_yaxes(scaleanchor = \"x\", scaleratio = 1)\n",
    "fig.show()"
   ]
  },
  {
   "cell_type": "code",
   "execution_count": null,
   "metadata": {},
   "outputs": [],
   "source": [
    "landmarks"
   ]
  }
 ],
 "metadata": {
  "kernelspec": {
   "display_name": "Python 3.8.10 64-bit",
   "language": "python",
   "name": "python3"
  },
  "language_info": {
   "codemirror_mode": {
    "name": "ipython",
    "version": 3
   },
   "file_extension": ".py",
   "mimetype": "text/x-python",
   "name": "python",
   "nbconvert_exporter": "python",
   "pygments_lexer": "ipython3",
   "version": "3.8.10"
  },
  "orig_nbformat": 4,
  "vscode": {
   "interpreter": {
    "hash": "916dbcbb3f70747c44a77c7bcd40155683ae19c65e1c03b4aa3499c5328201f1"
   }
  }
 },
 "nbformat": 4,
 "nbformat_minor": 2
}
